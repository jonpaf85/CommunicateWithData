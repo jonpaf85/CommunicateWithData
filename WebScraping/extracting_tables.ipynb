{
 "cells": [
  {
   "cell_type": "code",
   "execution_count": 1,
   "metadata": {},
   "outputs": [],
   "source": [
    "import requests\n",
    "import lxml.html as lh\n",
    "import pandas as pd"
   ]
  },
  {
   "cell_type": "code",
   "execution_count": 2,
   "metadata": {},
   "outputs": [
    {
     "name": "stdout",
     "output_type": "stream",
     "text": [
      "sucess\n"
     ]
    }
   ],
   "source": [
    "url='https://www.expansion.com/mercados/cotizaciones/indices/ibex35_I.IB.html'\n",
    "\n",
    "#Create a handle, page, to handle the contents of the website\n",
    "page = requests.get(url)\n",
    "\n",
    "#Store the contents of the website under doc\n",
    "doc = lh.fromstring(page.content)\n",
    "\n",
    "#Parse data that are stored between <tr>..</tr> of HTML\n",
    "tr_elements = doc.xpath('//tr')\n",
    "\n",
    "print('sucess')"
   ]
  },
  {
   "cell_type": "code",
   "execution_count": 116,
   "metadata": {},
   "outputs": [],
   "source": [
    "#Check the length of the first 12 rows\n",
    "a = [len(T) for T in tr_elements[:53]]\n",
    "#a"
   ]
  },
  {
   "cell_type": "code",
   "execution_count": 4,
   "metadata": {},
   "outputs": [
    {
     "data": {
      "text/plain": [
       "[5, 5]"
      ]
     },
     "execution_count": 4,
     "metadata": {},
     "output_type": "execute_result"
    }
   ],
   "source": [
    "#get first two elements\n",
    "tr_elements_st = tr_elements[0:2]\n",
    "[len(T) for T in tr_elements_st[:2]]"
   ]
  },
  {
   "cell_type": "code",
   "execution_count": 124,
   "metadata": {},
   "outputs": [
    {
     "name": "stdout",
     "output_type": "stream",
     "text": [
      "1 ACCIONA\n",
      "2 113,600\n",
      "3 2,90\n",
      "4 3,20\n",
      "5 23,73\n",
      "6 113,800\n",
      "7 110,000\n",
      "8 88.239\n",
      "9 6.232\n",
      "10 16:49\n"
     ]
    }
   ],
   "source": [
    "tr_elements = doc.xpath('//tr')\n",
    "#Create empty list\n",
    "col=[]\n",
    "i=0\n",
    "#For each row, store each first element (header) and an empty list\n",
    "for t in tr_elements[18][0:10]: #de 18 a 52\n",
    "    i+=1\n",
    "    name=t.text_content()\n",
    "    print (i, name)\n",
    "    col.append(name)"
   ]
  },
  {
   "cell_type": "code",
   "execution_count": 125,
   "metadata": {},
   "outputs": [
    {
     "data": {
      "text/plain": [
       "['ACCIONA',\n",
       " '113.600',\n",
       " '2.90',\n",
       " '3.20',\n",
       " '23.73',\n",
       " '113.800',\n",
       " '110.000',\n",
       " '88.239',\n",
       " '6.232',\n",
       " '16:49']"
      ]
     },
     "execution_count": 125,
     "metadata": {},
     "output_type": "execute_result"
    }
   ],
   "source": [
    "coll = [x.replace(',','.') for x in col]\n",
    "coll"
   ]
  },
  {
   "cell_type": "code",
   "execution_count": 98,
   "metadata": {},
   "outputs": [
    {
     "data": {
      "text/plain": [
       "list"
      ]
     },
     "execution_count": 98,
     "metadata": {},
     "output_type": "execute_result"
    }
   ],
   "source": [
    "col_names = ['Valor', 'Ultimo', 'Variacion (%)', 'Variacion', 'Variacion Año', 'Max', 'Min', 'Volumen', 'Capitalizacion (Mil-Mill)', 'Hora']\n",
    "type(col_names)"
   ]
  },
  {
   "cell_type": "code",
   "execution_count": 109,
   "metadata": {},
   "outputs": [
    {
     "data": {
      "text/html": [
       "<div>\n",
       "<style scoped>\n",
       "    .dataframe tbody tr th:only-of-type {\n",
       "        vertical-align: middle;\n",
       "    }\n",
       "\n",
       "    .dataframe tbody tr th {\n",
       "        vertical-align: top;\n",
       "    }\n",
       "\n",
       "    .dataframe thead th {\n",
       "        text-align: right;\n",
       "    }\n",
       "</style>\n",
       "<table border=\"1\" class=\"dataframe\">\n",
       "  <thead>\n",
       "    <tr style=\"text-align: right;\">\n",
       "      <th></th>\n",
       "      <th>Valor</th>\n",
       "      <th>Ultimo</th>\n",
       "      <th>Variacion (%)</th>\n",
       "      <th>Variacion</th>\n",
       "      <th>Variacion Año</th>\n",
       "      <th>Max</th>\n",
       "      <th>Min</th>\n",
       "      <th>Volumen</th>\n",
       "      <th>Capitalizacion (Mil-Mill)</th>\n",
       "    </tr>\n",
       "  </thead>\n",
       "  <tbody>\n",
       "    <tr>\n",
       "      <th>0</th>\n",
       "      <td>ACCIONA</td>\n",
       "      <td>113.600</td>\n",
       "      <td>2.90</td>\n",
       "      <td>3.20</td>\n",
       "      <td>23.73</td>\n",
       "      <td>113.800</td>\n",
       "      <td>110.000</td>\n",
       "      <td>88.239</td>\n",
       "      <td>6.232</td>\n",
       "    </tr>\n",
       "  </tbody>\n",
       "</table>\n",
       "</div>"
      ],
      "text/plain": [
       "     Valor   Ultimo Variacion (%) Variacion Variacion Año      Max      Min  \\\n",
       "0  ACCIONA  113.600          2.90      3.20         23.73  113.800  110.000   \n",
       "\n",
       "  Volumen Capitalizacion (Mil-Mill)  \n",
       "0  88.239                     6.232  "
      ]
     },
     "execution_count": 109,
     "metadata": {},
     "output_type": "execute_result"
    }
   ],
   "source": [
    "df = pd.DataFrame(columns = col_names )\n",
    "df.loc[0] = coll\n",
    "#df = df.set_index('Valor')\n",
    "df = df.drop(['Hora'],axis=1)\n",
    "\n",
    "df"
   ]
  },
  {
   "cell_type": "code",
   "execution_count": 108,
   "metadata": {},
   "outputs": [
    {
     "data": {
      "text/plain": [
       "Ultimo                       113.600\n",
       "Variacion (%)                  2.900\n",
       "Variacion                      3.200\n",
       "Variacion Año                 23.730\n",
       "Max                          113.800\n",
       "Min                          110.000\n",
       "Volumen                       88.239\n",
       "Capitalizacion (Mil-Mill)      6.232\n",
       "Name: ACCIONA, dtype: float64"
      ]
     },
     "execution_count": 108,
     "metadata": {},
     "output_type": "execute_result"
    }
   ],
   "source": [
    "a = df.loc['ACCIONA'].astype(float)\n",
    "a"
   ]
  },
  {
   "cell_type": "code",
   "execution_count": 114,
   "metadata": {},
   "outputs": [
    {
     "data": {
      "text/html": [
       "<div>\n",
       "<style scoped>\n",
       "    .dataframe tbody tr th:only-of-type {\n",
       "        vertical-align: middle;\n",
       "    }\n",
       "\n",
       "    .dataframe tbody tr th {\n",
       "        vertical-align: top;\n",
       "    }\n",
       "\n",
       "    .dataframe thead th {\n",
       "        text-align: right;\n",
       "    }\n",
       "</style>\n",
       "<table border=\"1\" class=\"dataframe\">\n",
       "  <thead>\n",
       "    <tr style=\"text-align: right;\">\n",
       "      <th></th>\n",
       "      <th>Valor</th>\n",
       "      <th>Ultimo</th>\n",
       "      <th>Variacion (%)</th>\n",
       "      <th>Variacion</th>\n",
       "      <th>Variacion Año</th>\n",
       "      <th>Max</th>\n",
       "      <th>Min</th>\n",
       "      <th>Volumen</th>\n",
       "      <th>Capitalizacion (Mil-Mill)</th>\n",
       "    </tr>\n",
       "  </thead>\n",
       "  <tbody>\n",
       "  </tbody>\n",
       "</table>\n",
       "</div>"
      ],
      "text/plain": [
       "Empty DataFrame\n",
       "Columns: [Valor, Ultimo, Variacion (%), Variacion, Variacion Año, Max, Min, Volumen, Capitalizacion (Mil-Mill)]\n",
       "Index: []"
      ]
     },
     "execution_count": 114,
     "metadata": {},
     "output_type": "execute_result"
    }
   ],
   "source": [
    "df_IBEX35 = pd.DataFrame(columns = col_names )\n",
    "df_IBEX35 = df_IBEX35.drop(['Hora'],axis=1)\n",
    "df_IBEX35"
   ]
  },
  {
   "cell_type": "code",
   "execution_count": 115,
   "metadata": {},
   "outputs": [
    {
     "data": {
      "text/html": [
       "<div>\n",
       "<style scoped>\n",
       "    .dataframe tbody tr th:only-of-type {\n",
       "        vertical-align: middle;\n",
       "    }\n",
       "\n",
       "    .dataframe tbody tr th {\n",
       "        vertical-align: top;\n",
       "    }\n",
       "\n",
       "    .dataframe thead th {\n",
       "        text-align: right;\n",
       "    }\n",
       "</style>\n",
       "<table border=\"1\" class=\"dataframe\">\n",
       "  <thead>\n",
       "    <tr style=\"text-align: right;\">\n",
       "      <th></th>\n",
       "      <th>Valor</th>\n",
       "      <th>Ultimo</th>\n",
       "      <th>Variacion (%)</th>\n",
       "      <th>Variacion</th>\n",
       "      <th>Variacion Año</th>\n",
       "      <th>Max</th>\n",
       "      <th>Min</th>\n",
       "      <th>Volumen</th>\n",
       "      <th>Capitalizacion (Mil-Mill)</th>\n",
       "    </tr>\n",
       "  </thead>\n",
       "  <tbody>\n",
       "    <tr>\n",
       "      <th>0</th>\n",
       "      <td>ACCIONA</td>\n",
       "      <td>113.600</td>\n",
       "      <td>2.90</td>\n",
       "      <td>3.20</td>\n",
       "      <td>23.73</td>\n",
       "      <td>113.800</td>\n",
       "      <td>110.000</td>\n",
       "      <td>88.239</td>\n",
       "      <td>6.232</td>\n",
       "    </tr>\n",
       "  </tbody>\n",
       "</table>\n",
       "</div>"
      ],
      "text/plain": [
       "     Valor   Ultimo Variacion (%) Variacion Variacion Año      Max      Min  \\\n",
       "0  ACCIONA  113.600          2.90      3.20         23.73  113.800  110.000   \n",
       "\n",
       "  Volumen Capitalizacion (Mil-Mill)  \n",
       "0  88.239                     6.232  "
      ]
     },
     "execution_count": 115,
     "metadata": {},
     "output_type": "execute_result"
    }
   ],
   "source": [
    "df_IBEX35 = df_IBEX35.append(df)\n",
    "df_IBEX35"
   ]
  },
  {
   "cell_type": "code",
   "execution_count": 42,
   "metadata": {},
   "outputs": [
    {
     "name": "stdout",
     "output_type": "stream",
     "text": [
      "1 8.122,50 (16:51)\n"
     ]
    }
   ],
   "source": [
    "i=0\n",
    "for t in tr_elements_st[1][0:1]:\n",
    "    i+=1\n",
    "    name=t.text_content()\n",
    "    print (i, name)\n",
    "    col.append((name,[]))"
   ]
  },
  {
   "cell_type": "code",
   "execution_count": 24,
   "metadata": {},
   "outputs": [
    {
     "data": {
      "text/plain": [
       "'8.122,50 (16:51)'"
      ]
     },
     "execution_count": 24,
     "metadata": {},
     "output_type": "execute_result"
    }
   ],
   "source": [
    "name\n"
   ]
  },
  {
   "cell_type": "code",
   "execution_count": 40,
   "metadata": {},
   "outputs": [
    {
     "data": {
      "text/plain": [
       "['8.122,50', '(16:51)']"
      ]
     },
     "execution_count": 40,
     "metadata": {},
     "output_type": "execute_result"
    }
   ],
   "source": [
    "x = name.split(' ')\n",
    "x"
   ]
  },
  {
   "cell_type": "code",
   "execution_count": 27,
   "metadata": {},
   "outputs": [
    {
     "data": {
      "text/plain": [
       "'8.122,50 '"
      ]
     },
     "execution_count": 27,
     "metadata": {},
     "output_type": "execute_result"
    }
   ],
   "source": [
    "x[0]"
   ]
  },
  {
   "cell_type": "code",
   "execution_count": 31,
   "metadata": {},
   "outputs": [
    {
     "data": {
      "text/plain": [
       "'8122,50 '"
      ]
     },
     "execution_count": 31,
     "metadata": {},
     "output_type": "execute_result"
    }
   ],
   "source": [
    "xx = x[0].replace('.','')\n",
    "xx"
   ]
  },
  {
   "cell_type": "code",
   "execution_count": 38,
   "metadata": {},
   "outputs": [
    {
     "data": {
      "text/plain": [
       "8122.5"
      ]
     },
     "execution_count": 38,
     "metadata": {},
     "output_type": "execute_result"
    }
   ],
   "source": [
    "value = float(xx.replace(',',('.')))\n",
    "value "
   ]
  },
  {
   "cell_type": "code",
   "execution_count": 39,
   "metadata": {},
   "outputs": [
    {
     "data": {
      "text/plain": [
       "8122.5"
      ]
     },
     "execution_count": 39,
     "metadata": {},
     "output_type": "execute_result"
    }
   ],
   "source": [
    "value = float(x[0].replace('.','').replace(',',('.')))\n",
    "value "
   ]
  },
  {
   "cell_type": "markdown",
   "metadata": {},
   "source": [
    "set new dataframe for all ibex35"
   ]
  },
  {
   "cell_type": "code",
   "execution_count": 137,
   "metadata": {},
   "outputs": [],
   "source": [
    "tr_elements = doc.xpath('//tr')\n",
    "\n",
    "#set dataframe contex\n",
    "col_names = ['Valor', 'Ultimo', 'Variacion (%)', 'Variacion', 'Variacion Año', 'Max', 'Min', 'Volumen', 'Capitalizacion (Mil-Mill)']\n",
    "df_IBEX35 = pd.DataFrame(columns = col_names )\n",
    "\n",
    "for vv in range(18,52+1):\n",
    "    col=[]    \n",
    "    #For each row, store each first element (header) and an empty list\n",
    "    for t in tr_elements[vv][0:9]: #de 18 a 52 --> for each value do:\n",
    "        name=t.text_content()\n",
    "        col.append(name)\n",
    "        \n",
    "        #set values in appropiate format\n",
    "        coll = [x.replace(',','.') for x in col]\n",
    "        \n",
    "    #set dataframe for each value\n",
    "    df = pd.DataFrame(columns = col_names )\n",
    "    df.loc[0] = coll\n",
    "        \n",
    "    #Incorporate last value on IBEX35 df\n",
    "    df_IBEX35 = df_IBEX35.append(df)\n",
    "    \n",
    "\n",
    "df_IBEX35 = df_IBEX35.set_index('Valor')\n"
   ]
  },
  {
   "cell_type": "code",
   "execution_count": 138,
   "metadata": {},
   "outputs": [
    {
     "data": {
      "text/html": [
       "<div>\n",
       "<style scoped>\n",
       "    .dataframe tbody tr th:only-of-type {\n",
       "        vertical-align: middle;\n",
       "    }\n",
       "\n",
       "    .dataframe tbody tr th {\n",
       "        vertical-align: top;\n",
       "    }\n",
       "\n",
       "    .dataframe thead th {\n",
       "        text-align: right;\n",
       "    }\n",
       "</style>\n",
       "<table border=\"1\" class=\"dataframe\">\n",
       "  <thead>\n",
       "    <tr style=\"text-align: right;\">\n",
       "      <th></th>\n",
       "      <th>Ultimo</th>\n",
       "      <th>Variacion (%)</th>\n",
       "      <th>Variacion</th>\n",
       "      <th>Variacion Año</th>\n",
       "      <th>Max</th>\n",
       "      <th>Min</th>\n",
       "      <th>Volumen</th>\n",
       "      <th>Capitalizacion (Mil-Mill)</th>\n",
       "    </tr>\n",
       "    <tr>\n",
       "      <th>Valor</th>\n",
       "      <th></th>\n",
       "      <th></th>\n",
       "      <th></th>\n",
       "      <th></th>\n",
       "      <th></th>\n",
       "      <th></th>\n",
       "      <th></th>\n",
       "      <th></th>\n",
       "    </tr>\n",
       "  </thead>\n",
       "  <tbody>\n",
       "    <tr>\n",
       "      <th>ACCIONA</th>\n",
       "      <td>113.600</td>\n",
       "      <td>2.90</td>\n",
       "      <td>3.20</td>\n",
       "      <td>23.73</td>\n",
       "      <td>113.800</td>\n",
       "      <td>110.000</td>\n",
       "      <td>88.239</td>\n",
       "      <td>6.232</td>\n",
       "    </tr>\n",
       "    <tr>\n",
       "      <th>ACERINOX</th>\n",
       "      <td>9.018</td>\n",
       "      <td>-0.40</td>\n",
       "      <td>-0.04</td>\n",
       "      <td>-5.08</td>\n",
       "      <td>9.160</td>\n",
       "      <td>8.996</td>\n",
       "      <td>525.188</td>\n",
       "      <td>2.440</td>\n",
       "    </tr>\n",
       "    <tr>\n",
       "      <th>ACS</th>\n",
       "      <td>26.930</td>\n",
       "      <td>-1.43</td>\n",
       "      <td>-0.39</td>\n",
       "      <td>-17.97</td>\n",
       "      <td>27.520</td>\n",
       "      <td>26.630</td>\n",
       "      <td>318.235</td>\n",
       "      <td>8.366</td>\n",
       "    </tr>\n",
       "    <tr>\n",
       "      <th>AENA</th>\n",
       "      <td>138.900</td>\n",
       "      <td>0.43</td>\n",
       "      <td>0.60</td>\n",
       "      <td>-18.53</td>\n",
       "      <td>140.900</td>\n",
       "      <td>138.700</td>\n",
       "      <td>85.751</td>\n",
       "      <td>20.835</td>\n",
       "    </tr>\n",
       "    <tr>\n",
       "      <th>ALMIRALL</th>\n",
       "      <td>11.120</td>\n",
       "      <td>1.46</td>\n",
       "      <td>0.16</td>\n",
       "      <td>-22.39</td>\n",
       "      <td>11.170</td>\n",
       "      <td>10.870</td>\n",
       "      <td>343.729</td>\n",
       "      <td>1.981</td>\n",
       "    </tr>\n",
       "    <tr>\n",
       "      <th>AMADEUS IT GROUP</th>\n",
       "      <td>58.680</td>\n",
       "      <td>-1.34</td>\n",
       "      <td>-0.80</td>\n",
       "      <td>-18.79</td>\n",
       "      <td>59.960</td>\n",
       "      <td>57.920</td>\n",
       "      <td>384.314</td>\n",
       "      <td>26.435</td>\n",
       "    </tr>\n",
       "    <tr>\n",
       "      <th>ARCELORMITTAL</th>\n",
       "      <td>18.900</td>\n",
       "      <td>1.23</td>\n",
       "      <td>0.23</td>\n",
       "      <td>21.00</td>\n",
       "      <td>19.368</td>\n",
       "      <td>18.842</td>\n",
       "      <td>815.845</td>\n",
       "      <td>20.843</td>\n",
       "    </tr>\n",
       "    <tr>\n",
       "      <th>BANCO SABADELL</th>\n",
       "      <td>0.368</td>\n",
       "      <td>-2.78</td>\n",
       "      <td>-0.01</td>\n",
       "      <td>-63.09</td>\n",
       "      <td>0.382</td>\n",
       "      <td>0.367</td>\n",
       "      <td>37.036.568</td>\n",
       "      <td>2.068</td>\n",
       "    </tr>\n",
       "    <tr>\n",
       "      <th>BANKIA</th>\n",
       "      <td>1.532</td>\n",
       "      <td>-2.33</td>\n",
       "      <td>-0.04</td>\n",
       "      <td>-9.46</td>\n",
       "      <td>1.584</td>\n",
       "      <td>1.528</td>\n",
       "      <td>2.710.820</td>\n",
       "      <td>4.703</td>\n",
       "    </tr>\n",
       "    <tr>\n",
       "      <th>BANKINTER</th>\n",
       "      <td>4.458</td>\n",
       "      <td>-2.11</td>\n",
       "      <td>-0.10</td>\n",
       "      <td>-29.76</td>\n",
       "      <td>4.647</td>\n",
       "      <td>4.441</td>\n",
       "      <td>2.557.929</td>\n",
       "      <td>4.007</td>\n",
       "    </tr>\n",
       "    <tr>\n",
       "      <th>BBVA</th>\n",
       "      <td>4.026</td>\n",
       "      <td>-1.78</td>\n",
       "      <td>-0.07</td>\n",
       "      <td>-14.61</td>\n",
       "      <td>4.118</td>\n",
       "      <td>4.019</td>\n",
       "      <td>9.218.129</td>\n",
       "      <td>26.845</td>\n",
       "    </tr>\n",
       "    <tr>\n",
       "      <th>CAIXABANK</th>\n",
       "      <td>2.249</td>\n",
       "      <td>-2.43</td>\n",
       "      <td>-0.06</td>\n",
       "      <td>-18.79</td>\n",
       "      <td>2.334</td>\n",
       "      <td>2.247</td>\n",
       "      <td>8.034.092</td>\n",
       "      <td>13.452</td>\n",
       "    </tr>\n",
       "    <tr>\n",
       "      <th>CELLNEX TELECOM</th>\n",
       "      <td>50.660</td>\n",
       "      <td>0.64</td>\n",
       "      <td>0.32</td>\n",
       "      <td>41.69</td>\n",
       "      <td>51.340</td>\n",
       "      <td>50.320</td>\n",
       "      <td>359.854</td>\n",
       "      <td>24.657</td>\n",
       "    </tr>\n",
       "    <tr>\n",
       "      <th>CIE. AUTOMOTIVE</th>\n",
       "      <td>20.920</td>\n",
       "      <td>0.58</td>\n",
       "      <td>0.12</td>\n",
       "      <td>1.72</td>\n",
       "      <td>21.140</td>\n",
       "      <td>20.660</td>\n",
       "      <td>107.065</td>\n",
       "      <td>2.564</td>\n",
       "    </tr>\n",
       "    <tr>\n",
       "      <th>COLONIAL</th>\n",
       "      <td>8.335</td>\n",
       "      <td>2.21</td>\n",
       "      <td>0.18</td>\n",
       "      <td>-24.77</td>\n",
       "      <td>8.480</td>\n",
       "      <td>8.160</td>\n",
       "      <td>287.346</td>\n",
       "      <td>4.235</td>\n",
       "    </tr>\n",
       "    <tr>\n",
       "      <th>ENAGAS</th>\n",
       "      <td>20.090</td>\n",
       "      <td>-0.79</td>\n",
       "      <td>-0.16</td>\n",
       "      <td>-7.79</td>\n",
       "      <td>20.460</td>\n",
       "      <td>20.030</td>\n",
       "      <td>560.229</td>\n",
       "      <td>5.263</td>\n",
       "    </tr>\n",
       "    <tr>\n",
       "      <th>ENDESA</th>\n",
       "      <td>22.540</td>\n",
       "      <td>1.17</td>\n",
       "      <td>0.26</td>\n",
       "      <td>-1.92</td>\n",
       "      <td>22.610</td>\n",
       "      <td>22.280</td>\n",
       "      <td>551.307</td>\n",
       "      <td>23.864</td>\n",
       "    </tr>\n",
       "    <tr>\n",
       "      <th>FERROVIAL</th>\n",
       "      <td>23.100</td>\n",
       "      <td>-0.52</td>\n",
       "      <td>-0.12</td>\n",
       "      <td>-12.26</td>\n",
       "      <td>23.470</td>\n",
       "      <td>22.940</td>\n",
       "      <td>264.570</td>\n",
       "      <td>17.264</td>\n",
       "    </tr>\n",
       "    <tr>\n",
       "      <th>GRIFOLS</th>\n",
       "      <td>24.550</td>\n",
       "      <td>1.36</td>\n",
       "      <td>0.33</td>\n",
       "      <td>-21.39</td>\n",
       "      <td>24.550</td>\n",
       "      <td>24.150</td>\n",
       "      <td>308.284</td>\n",
       "      <td>10.461</td>\n",
       "    </tr>\n",
       "    <tr>\n",
       "      <th>IAG</th>\n",
       "      <td>1.778</td>\n",
       "      <td>1.77</td>\n",
       "      <td>0.03</td>\n",
       "      <td>-62.88</td>\n",
       "      <td>1.820</td>\n",
       "      <td>1.766</td>\n",
       "      <td>18.297.608</td>\n",
       "      <td>8.837</td>\n",
       "    </tr>\n",
       "    <tr>\n",
       "      <th>IBERDROLA</th>\n",
       "      <td>11.260</td>\n",
       "      <td>0.40</td>\n",
       "      <td>0.05</td>\n",
       "      <td>27.83</td>\n",
       "      <td>11.350</td>\n",
       "      <td>11.165</td>\n",
       "      <td>3.511.797</td>\n",
       "      <td>71.502</td>\n",
       "    </tr>\n",
       "    <tr>\n",
       "      <th>INDITEX</th>\n",
       "      <td>26.640</td>\n",
       "      <td>-0.49</td>\n",
       "      <td>-0.13</td>\n",
       "      <td>-13.91</td>\n",
       "      <td>26.960</td>\n",
       "      <td>26.510</td>\n",
       "      <td>1.419.822</td>\n",
       "      <td>83.028</td>\n",
       "    </tr>\n",
       "    <tr>\n",
       "      <th>INDRA</th>\n",
       "      <td>6.660</td>\n",
       "      <td>-0.52</td>\n",
       "      <td>-0.04</td>\n",
       "      <td>-34.58</td>\n",
       "      <td>6.745</td>\n",
       "      <td>6.635</td>\n",
       "      <td>429.269</td>\n",
       "      <td>1.177</td>\n",
       "    </tr>\n",
       "    <tr>\n",
       "      <th>MAPFRE</th>\n",
       "      <td>1.712</td>\n",
       "      <td>1.60</td>\n",
       "      <td>0.03</td>\n",
       "      <td>-23.74</td>\n",
       "      <td>1.727</td>\n",
       "      <td>1.686</td>\n",
       "      <td>4.515.610</td>\n",
       "      <td>5.272</td>\n",
       "    </tr>\n",
       "    <tr>\n",
       "      <th>MELIÁ HOTELS</th>\n",
       "      <td>5.655</td>\n",
       "      <td>-2.16</td>\n",
       "      <td>-0.12</td>\n",
       "      <td>-28.05</td>\n",
       "      <td>5.870</td>\n",
       "      <td>5.655</td>\n",
       "      <td>944.195</td>\n",
       "      <td>1.246</td>\n",
       "    </tr>\n",
       "    <tr>\n",
       "      <th>MERLIN PROP.</th>\n",
       "      <td>7.785</td>\n",
       "      <td>0.58</td>\n",
       "      <td>0.05</td>\n",
       "      <td>-39.13</td>\n",
       "      <td>7.920</td>\n",
       "      <td>7.730</td>\n",
       "      <td>375.644</td>\n",
       "      <td>3.657</td>\n",
       "    </tr>\n",
       "    <tr>\n",
       "      <th>NATURGY</th>\n",
       "      <td>19.040</td>\n",
       "      <td>0.47</td>\n",
       "      <td>0.09</td>\n",
       "      <td>-7.58</td>\n",
       "      <td>19.060</td>\n",
       "      <td>18.845</td>\n",
       "      <td>386.146</td>\n",
       "      <td>18.461</td>\n",
       "    </tr>\n",
       "    <tr>\n",
       "      <th>PHARMA MAR</th>\n",
       "      <td>75.850</td>\n",
       "      <td>2.02</td>\n",
       "      <td>1.50</td>\n",
       "      <td>77.87</td>\n",
       "      <td>76.400</td>\n",
       "      <td>72.600</td>\n",
       "      <td>95.433</td>\n",
       "      <td>1.392</td>\n",
       "    </tr>\n",
       "    <tr>\n",
       "      <th>RED ELÉCTRICA</th>\n",
       "      <td>16.690</td>\n",
       "      <td>0.06</td>\n",
       "      <td>0.01</td>\n",
       "      <td>-1.07</td>\n",
       "      <td>16.905</td>\n",
       "      <td>16.670</td>\n",
       "      <td>359.444</td>\n",
       "      <td>9.031</td>\n",
       "    </tr>\n",
       "    <tr>\n",
       "      <th>REPSOL</th>\n",
       "      <td>8.662</td>\n",
       "      <td>-0.96</td>\n",
       "      <td>-0.08</td>\n",
       "      <td>-34.08</td>\n",
       "      <td>8.966</td>\n",
       "      <td>8.612</td>\n",
       "      <td>5.357.475</td>\n",
       "      <td>14.088</td>\n",
       "    </tr>\n",
       "    <tr>\n",
       "      <th>SANTANDER</th>\n",
       "      <td>2.659</td>\n",
       "      <td>-1.66</td>\n",
       "      <td>-0.05</td>\n",
       "      <td>-25.61</td>\n",
       "      <td>2.735</td>\n",
       "      <td>2.654</td>\n",
       "      <td>28.441.940</td>\n",
       "      <td>46.117</td>\n",
       "    </tr>\n",
       "    <tr>\n",
       "      <th>SIEMENS GAMESA</th>\n",
       "      <td>28.780</td>\n",
       "      <td>0.45</td>\n",
       "      <td>0.13</td>\n",
       "      <td>84.55</td>\n",
       "      <td>29.020</td>\n",
       "      <td>28.550</td>\n",
       "      <td>619.293</td>\n",
       "      <td>19.603</td>\n",
       "    </tr>\n",
       "    <tr>\n",
       "      <th>SOLARIA</th>\n",
       "      <td>20.880</td>\n",
       "      <td>4.30</td>\n",
       "      <td>0.86</td>\n",
       "      <td>207.06</td>\n",
       "      <td>20.960</td>\n",
       "      <td>20.000</td>\n",
       "      <td>784.744</td>\n",
       "      <td>2.609</td>\n",
       "    </tr>\n",
       "    <tr>\n",
       "      <th>TELEFÓNICA</th>\n",
       "      <td>3.426</td>\n",
       "      <td>-1.21</td>\n",
       "      <td>-0.04</td>\n",
       "      <td>-39.46</td>\n",
       "      <td>3.524</td>\n",
       "      <td>3.401</td>\n",
       "      <td>10.680.706</td>\n",
       "      <td>18.255</td>\n",
       "    </tr>\n",
       "    <tr>\n",
       "      <th>VISCOFAN</th>\n",
       "      <td>59.600</td>\n",
       "      <td>0.68</td>\n",
       "      <td>0.40</td>\n",
       "      <td>28.60</td>\n",
       "      <td>59.650</td>\n",
       "      <td>58.400</td>\n",
       "      <td>51.425</td>\n",
       "      <td>2.771</td>\n",
       "    </tr>\n",
       "  </tbody>\n",
       "</table>\n",
       "</div>"
      ],
      "text/plain": [
       "                   Ultimo Variacion (%) Variacion Variacion Año      Max  \\\n",
       "Valor                                                                      \n",
       "ACCIONA           113.600          2.90      3.20         23.73  113.800   \n",
       "ACERINOX            9.018         -0.40     -0.04         -5.08    9.160   \n",
       "ACS                26.930         -1.43     -0.39        -17.97   27.520   \n",
       "AENA              138.900          0.43      0.60        -18.53  140.900   \n",
       "ALMIRALL           11.120          1.46      0.16        -22.39   11.170   \n",
       "AMADEUS IT GROUP   58.680         -1.34     -0.80        -18.79   59.960   \n",
       "ARCELORMITTAL      18.900          1.23      0.23         21.00   19.368   \n",
       "BANCO SABADELL      0.368         -2.78     -0.01        -63.09    0.382   \n",
       "BANKIA              1.532         -2.33     -0.04         -9.46    1.584   \n",
       "BANKINTER           4.458         -2.11     -0.10        -29.76    4.647   \n",
       "BBVA                4.026         -1.78     -0.07        -14.61    4.118   \n",
       "CAIXABANK           2.249         -2.43     -0.06        -18.79    2.334   \n",
       "CELLNEX TELECOM    50.660          0.64      0.32         41.69   51.340   \n",
       "CIE. AUTOMOTIVE    20.920          0.58      0.12          1.72   21.140   \n",
       "COLONIAL            8.335          2.21      0.18        -24.77    8.480   \n",
       "ENAGAS             20.090         -0.79     -0.16         -7.79   20.460   \n",
       "ENDESA             22.540          1.17      0.26         -1.92   22.610   \n",
       "FERROVIAL          23.100         -0.52     -0.12        -12.26   23.470   \n",
       "GRIFOLS            24.550          1.36      0.33        -21.39   24.550   \n",
       "IAG                 1.778          1.77      0.03        -62.88    1.820   \n",
       "IBERDROLA          11.260          0.40      0.05         27.83   11.350   \n",
       "INDITEX            26.640         -0.49     -0.13        -13.91   26.960   \n",
       "INDRA               6.660         -0.52     -0.04        -34.58    6.745   \n",
       "MAPFRE              1.712          1.60      0.03        -23.74    1.727   \n",
       "MELIÁ HOTELS        5.655         -2.16     -0.12        -28.05    5.870   \n",
       "MERLIN PROP.        7.785          0.58      0.05        -39.13    7.920   \n",
       "NATURGY            19.040          0.47      0.09         -7.58   19.060   \n",
       "PHARMA MAR         75.850          2.02      1.50         77.87   76.400   \n",
       "RED ELÉCTRICA      16.690          0.06      0.01         -1.07   16.905   \n",
       "REPSOL              8.662         -0.96     -0.08        -34.08    8.966   \n",
       "SANTANDER           2.659         -1.66     -0.05        -25.61    2.735   \n",
       "SIEMENS GAMESA     28.780          0.45      0.13         84.55   29.020   \n",
       "SOLARIA            20.880          4.30      0.86        207.06   20.960   \n",
       "TELEFÓNICA          3.426         -1.21     -0.04        -39.46    3.524   \n",
       "VISCOFAN           59.600          0.68      0.40         28.60   59.650   \n",
       "\n",
       "                      Min     Volumen Capitalizacion (Mil-Mill)  \n",
       "Valor                                                            \n",
       "ACCIONA           110.000      88.239                     6.232  \n",
       "ACERINOX            8.996     525.188                     2.440  \n",
       "ACS                26.630     318.235                     8.366  \n",
       "AENA              138.700      85.751                    20.835  \n",
       "ALMIRALL           10.870     343.729                     1.981  \n",
       "AMADEUS IT GROUP   57.920     384.314                    26.435  \n",
       "ARCELORMITTAL      18.842     815.845                    20.843  \n",
       "BANCO SABADELL      0.367  37.036.568                     2.068  \n",
       "BANKIA              1.528   2.710.820                     4.703  \n",
       "BANKINTER           4.441   2.557.929                     4.007  \n",
       "BBVA                4.019   9.218.129                    26.845  \n",
       "CAIXABANK           2.247   8.034.092                    13.452  \n",
       "CELLNEX TELECOM    50.320     359.854                    24.657  \n",
       "CIE. AUTOMOTIVE    20.660     107.065                     2.564  \n",
       "COLONIAL            8.160     287.346                     4.235  \n",
       "ENAGAS             20.030     560.229                     5.263  \n",
       "ENDESA             22.280     551.307                    23.864  \n",
       "FERROVIAL          22.940     264.570                    17.264  \n",
       "GRIFOLS            24.150     308.284                    10.461  \n",
       "IAG                 1.766  18.297.608                     8.837  \n",
       "IBERDROLA          11.165   3.511.797                    71.502  \n",
       "INDITEX            26.510   1.419.822                    83.028  \n",
       "INDRA               6.635     429.269                     1.177  \n",
       "MAPFRE              1.686   4.515.610                     5.272  \n",
       "MELIÁ HOTELS        5.655     944.195                     1.246  \n",
       "MERLIN PROP.        7.730     375.644                     3.657  \n",
       "NATURGY            18.845     386.146                    18.461  \n",
       "PHARMA MAR         72.600      95.433                     1.392  \n",
       "RED ELÉCTRICA      16.670     359.444                     9.031  \n",
       "REPSOL              8.612   5.357.475                    14.088  \n",
       "SANTANDER           2.654  28.441.940                    46.117  \n",
       "SIEMENS GAMESA     28.550     619.293                    19.603  \n",
       "SOLARIA            20.000     784.744                     2.609  \n",
       "TELEFÓNICA          3.401  10.680.706                    18.255  \n",
       "VISCOFAN           58.400      51.425                     2.771  "
      ]
     },
     "execution_count": 138,
     "metadata": {},
     "output_type": "execute_result"
    }
   ],
   "source": [
    "df_IBEX35"
   ]
  },
  {
   "cell_type": "code",
   "execution_count": 139,
   "metadata": {},
   "outputs": [
    {
     "data": {
      "text/plain": [
       "['VISCOFAN',\n",
       " '59,600',\n",
       " '0,68',\n",
       " '0,40',\n",
       " '28,60',\n",
       " '59,650',\n",
       " '58,400',\n",
       " '51.425',\n",
       " '2.771']"
      ]
     },
     "execution_count": 139,
     "metadata": {},
     "output_type": "execute_result"
    }
   ],
   "source": [
    "col"
   ]
  },
  {
   "cell_type": "code",
   "execution_count": 140,
   "metadata": {},
   "outputs": [],
   "source": [
    "x =[x.replace('.','').replace(',','.') for x in col]"
   ]
  },
  {
   "cell_type": "code",
   "execution_count": 141,
   "metadata": {},
   "outputs": [
    {
     "data": {
      "text/plain": [
       "['VISCOFAN',\n",
       " '59.600',\n",
       " '0.68',\n",
       " '0.40',\n",
       " '28.60',\n",
       " '59.650',\n",
       " '58.400',\n",
       " '51425',\n",
       " '2771']"
      ]
     },
     "execution_count": 141,
     "metadata": {},
     "output_type": "execute_result"
    }
   ],
   "source": [
    "x"
   ]
  },
  {
   "cell_type": "code",
   "execution_count": null,
   "metadata": {},
   "outputs": [],
   "source": []
  }
 ],
 "metadata": {
  "kernelspec": {
   "display_name": "Python 3",
   "language": "python",
   "name": "python3"
  },
  "language_info": {
   "codemirror_mode": {
    "name": "ipython",
    "version": 3
   },
   "file_extension": ".py",
   "mimetype": "text/x-python",
   "name": "python",
   "nbconvert_exporter": "python",
   "pygments_lexer": "ipython3",
   "version": "3.7.6"
  }
 },
 "nbformat": 4,
 "nbformat_minor": 4
}
