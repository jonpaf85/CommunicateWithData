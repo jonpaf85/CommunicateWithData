{
 "cells": [
  {
   "cell_type": "code",
   "execution_count": 1,
   "metadata": {},
   "outputs": [],
   "source": [
    "import pandas as pd"
   ]
  },
  {
   "cell_type": "code",
   "execution_count": 2,
   "metadata": {},
   "outputs": [
    {
     "data": {
      "text/html": [
       "<div>\n",
       "<style scoped>\n",
       "    .dataframe tbody tr th:only-of-type {\n",
       "        vertical-align: middle;\n",
       "    }\n",
       "\n",
       "    .dataframe tbody tr th {\n",
       "        vertical-align: top;\n",
       "    }\n",
       "\n",
       "    .dataframe thead th {\n",
       "        text-align: right;\n",
       "    }\n",
       "</style>\n",
       "<table border=\"1\" class=\"dataframe\">\n",
       "  <thead>\n",
       "    <tr style=\"text-align: right;\">\n",
       "      <th></th>\n",
       "      <th>Valor</th>\n",
       "      <th>URL_valor</th>\n",
       "      <th>nombre_valor</th>\n",
       "      <th>Tipo_empresa</th>\n",
       "    </tr>\n",
       "  </thead>\n",
       "  <tbody>\n",
       "    <tr>\n",
       "      <th>0</th>\n",
       "      <td>ACCIONA</td>\n",
       "      <td>https://es.investing.com/equities/acciona-sa-h...</td>\n",
       "      <td>acciona-sa</td>\n",
       "      <td>construccion</td>\n",
       "    </tr>\n",
       "    <tr>\n",
       "      <th>1</th>\n",
       "      <td>ACERINOX</td>\n",
       "      <td>https://es.investing.com/equities/acs-cons-y-s...</td>\n",
       "      <td>acs-cons-y-serv</td>\n",
       "      <td>construccion</td>\n",
       "    </tr>\n",
       "    <tr>\n",
       "      <th>2</th>\n",
       "      <td>ACS</td>\n",
       "      <td>https://es.investing.com/equities/acs-cons-y-s...</td>\n",
       "      <td>acs-cons-y-serv</td>\n",
       "      <td>construccion</td>\n",
       "    </tr>\n",
       "    <tr>\n",
       "      <th>3</th>\n",
       "      <td>AENA</td>\n",
       "      <td>https://es.investing.com/equities/aena-aeropue...</td>\n",
       "      <td>aena-aeropuertos-sa</td>\n",
       "      <td>transporte</td>\n",
       "    </tr>\n",
       "    <tr>\n",
       "      <th>4</th>\n",
       "      <td>ALMIRALL</td>\n",
       "      <td>https://es.investing.com/equities/almirall-sa-...</td>\n",
       "      <td>almirall-sa</td>\n",
       "      <td>farmaceutica</td>\n",
       "    </tr>\n",
       "  </tbody>\n",
       "</table>\n",
       "</div>"
      ],
      "text/plain": [
       "      Valor                                          URL_valor  \\\n",
       "0   ACCIONA  https://es.investing.com/equities/acciona-sa-h...   \n",
       "1  ACERINOX  https://es.investing.com/equities/acs-cons-y-s...   \n",
       "2       ACS  https://es.investing.com/equities/acs-cons-y-s...   \n",
       "3      AENA  https://es.investing.com/equities/aena-aeropue...   \n",
       "4  ALMIRALL  https://es.investing.com/equities/almirall-sa-...   \n",
       "\n",
       "          nombre_valor  Tipo_empresa  \n",
       "0           acciona-sa  construccion  \n",
       "1      acs-cons-y-serv  construccion  \n",
       "2      acs-cons-y-serv  construccion  \n",
       "3  aena-aeropuertos-sa    transporte  \n",
       "4          almirall-sa  farmaceutica  "
      ]
     },
     "execution_count": 2,
     "metadata": {},
     "output_type": "execute_result"
    }
   ],
   "source": [
    "ibex_35_valoresurl_df = pd.read_excel('ibex35_valores_url.xlsx', index_col= None) \n",
    "\n",
    "ibex_35_valoresurl_df = ibex_35_valoresurl_df.iloc[0:35,0:4]\n",
    "\n",
    "ibex_35_valoresurl_df.head(5)"
   ]
  },
  {
   "cell_type": "code",
   "execution_count": 3,
   "metadata": {},
   "outputs": [],
   "source": [
    "funcion_valores = {}\n",
    "tipos = ibex_35_valoresurl_df['Tipo_empresa']\n",
    "tipo = set(tipos)\n",
    "#print(type(funcion_valores))\n",
    "\n",
    "for tp in tipo:\n",
    "    el = list(tipos).count(tp)\n",
    "    \n",
    "    funcion_valores[tp.title()] = el"
   ]
  },
  {
   "cell_type": "code",
   "execution_count": 4,
   "metadata": {},
   "outputs": [
    {
     "data": {
      "text/plain": [
       "[('Energia', 8),\n",
       " ('Banca', 6),\n",
       " ('Construccion', 5),\n",
       " ('Transporte', 4),\n",
       " ('Farmaceutica', 3),\n",
       " ('Telecomunicacion', 2),\n",
       " ('Inmobiliaria', 2),\n",
       " ('Alimentacion', 1),\n",
       " ('Turismo', 1),\n",
       " ('Aseguradora', 1),\n",
       " ('Consultoria', 1),\n",
       " ('Textil', 1)]"
      ]
     },
     "execution_count": 4,
     "metadata": {},
     "output_type": "execute_result"
    }
   ],
   "source": [
    "funcion_valores_sorted = sorted(funcion_valores.items(), key=lambda x: x[1])\n",
    "funcion_valores_sorted = funcion_valores_sorted[::-1]\n",
    "funcion_valores_sorted"
   ]
  },
  {
   "cell_type": "code",
   "execution_count": 5,
   "metadata": {},
   "outputs": [
    {
     "data": {
      "text/plain": [
       "'https://es.investing.com/equities/acciona-sa-historical-data'"
      ]
     },
     "execution_count": 5,
     "metadata": {},
     "output_type": "execute_result"
    }
   ],
   "source": [
    "ibex_35_valoresurl_df['URL_valor'][0]"
   ]
  },
  {
   "cell_type": "code",
   "execution_count": 6,
   "metadata": {},
   "outputs": [
    {
     "data": {
      "text/plain": [
       "'construccion'"
      ]
     },
     "execution_count": 6,
     "metadata": {},
     "output_type": "execute_result"
    }
   ],
   "source": [
    "ibex_35_valoresurl_df['Tipo_empresa'][0]"
   ]
  },
  {
   "cell_type": "code",
   "execution_count": 7,
   "metadata": {},
   "outputs": [
    {
     "data": {
      "text/plain": [
       "True"
      ]
     },
     "execution_count": 7,
     "metadata": {},
     "output_type": "execute_result"
    }
   ],
   "source": [
    "'banca' in list(ibex_35_valoresurl_df['Tipo_empresa'])"
   ]
  },
  {
   "cell_type": "code",
   "execution_count": 8,
   "metadata": {},
   "outputs": [
    {
     "name": "stdout",
     "output_type": "stream",
     "text": [
      "ACCIONA\n",
      "ACERINOX\n",
      "ACS\n",
      "ARCELORMITTAL\n",
      "CIE. AUTOMOTIVE\n"
     ]
    }
   ],
   "source": [
    "for count, i in enumerate (ibex_35_valoresurl_df['Tipo_empresa'] == 'construccion'):\n",
    "    if i:\n",
    "        #ls = ls.append(ibex_35_valoresurl_df['Valor'][count])\n",
    "        print(ibex_35_valoresurl_df['Valor'][count])\n",
    "    \n"
   ]
  },
  {
   "cell_type": "code",
   "execution_count": 9,
   "metadata": {},
   "outputs": [
    {
     "name": "stdout",
     "output_type": "stream",
     "text": [
      "['BANCO SABADELL', 'BANKIA', 'BANKINTER', 'BBVA', 'CAIXABANK', 'SANTANDER']\n"
     ]
    }
   ],
   "source": [
    "bancos = []\n",
    "for count, i in enumerate (ibex_35_valoresurl_df['Tipo_empresa'] == 'banca'):\n",
    "    if i:\n",
    "        bancos.append(ibex_35_valoresurl_df['Valor'][count])\n",
    "        \n",
    "print(bancos)\n",
    "  \n",
    "#bancos = [(x) for (x,y) in zip (ibex_35_valoresurl_df['Valor'],ibex_35_valoresurl_df['Tipo_empresa']) if y == 'banca']\n"
   ]
  }
 ],
 "metadata": {
  "kernelspec": {
   "display_name": "Python 3",
   "language": "python",
   "name": "python3"
  },
  "language_info": {
   "codemirror_mode": {
    "name": "ipython",
    "version": 3
   },
   "file_extension": ".py",
   "mimetype": "text/x-python",
   "name": "python",
   "nbconvert_exporter": "python",
   "pygments_lexer": "ipython3",
   "version": "3.7.6"
  }
 },
 "nbformat": 4,
 "nbformat_minor": 4
}
